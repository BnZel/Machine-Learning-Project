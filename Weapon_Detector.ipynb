{
 "cells": [
  {
   "cell_type": "markdown",
   "metadata": {},
   "source": [
    "# Team Members\n",
    "* Jason Thai - 101107083\n",
    "* Hristo Tsvetkov - 100719969\n",
    "* Kevin Di Fonzo -"
   ]
  },
  {
   "cell_type": "code",
   "execution_count": 1,
   "metadata": {},
   "outputs": [
    {
     "name": "stderr",
     "output_type": "stream",
     "text": [
      "Using TensorFlow backend.\n",
      "C:\\Users\\xris1\\anaconda3\\lib\\site-packages\\tensorflow\\python\\framework\\dtypes.py:516: FutureWarning: Passing (type, 1) or '1type' as a synonym of type is deprecated; in a future version of numpy, it will be understood as (type, (1,)) / '(1,)type'.\n",
      "  _np_qint8 = np.dtype([(\"qint8\", np.int8, 1)])\n",
      "C:\\Users\\xris1\\anaconda3\\lib\\site-packages\\tensorflow\\python\\framework\\dtypes.py:517: FutureWarning: Passing (type, 1) or '1type' as a synonym of type is deprecated; in a future version of numpy, it will be understood as (type, (1,)) / '(1,)type'.\n",
      "  _np_quint8 = np.dtype([(\"quint8\", np.uint8, 1)])\n",
      "C:\\Users\\xris1\\anaconda3\\lib\\site-packages\\tensorflow\\python\\framework\\dtypes.py:518: FutureWarning: Passing (type, 1) or '1type' as a synonym of type is deprecated; in a future version of numpy, it will be understood as (type, (1,)) / '(1,)type'.\n",
      "  _np_qint16 = np.dtype([(\"qint16\", np.int16, 1)])\n",
      "C:\\Users\\xris1\\anaconda3\\lib\\site-packages\\tensorflow\\python\\framework\\dtypes.py:519: FutureWarning: Passing (type, 1) or '1type' as a synonym of type is deprecated; in a future version of numpy, it will be understood as (type, (1,)) / '(1,)type'.\n",
      "  _np_quint16 = np.dtype([(\"quint16\", np.uint16, 1)])\n",
      "C:\\Users\\xris1\\anaconda3\\lib\\site-packages\\tensorflow\\python\\framework\\dtypes.py:520: FutureWarning: Passing (type, 1) or '1type' as a synonym of type is deprecated; in a future version of numpy, it will be understood as (type, (1,)) / '(1,)type'.\n",
      "  _np_qint32 = np.dtype([(\"qint32\", np.int32, 1)])\n",
      "C:\\Users\\xris1\\anaconda3\\lib\\site-packages\\tensorflow\\python\\framework\\dtypes.py:525: FutureWarning: Passing (type, 1) or '1type' as a synonym of type is deprecated; in a future version of numpy, it will be understood as (type, (1,)) / '(1,)type'.\n",
      "  np_resource = np.dtype([(\"resource\", np.ubyte, 1)])\n",
      "C:\\Users\\xris1\\anaconda3\\lib\\site-packages\\tensorboard\\compat\\tensorflow_stub\\dtypes.py:541: FutureWarning: Passing (type, 1) or '1type' as a synonym of type is deprecated; in a future version of numpy, it will be understood as (type, (1,)) / '(1,)type'.\n",
      "  _np_qint8 = np.dtype([(\"qint8\", np.int8, 1)])\n",
      "C:\\Users\\xris1\\anaconda3\\lib\\site-packages\\tensorboard\\compat\\tensorflow_stub\\dtypes.py:542: FutureWarning: Passing (type, 1) or '1type' as a synonym of type is deprecated; in a future version of numpy, it will be understood as (type, (1,)) / '(1,)type'.\n",
      "  _np_quint8 = np.dtype([(\"quint8\", np.uint8, 1)])\n",
      "C:\\Users\\xris1\\anaconda3\\lib\\site-packages\\tensorboard\\compat\\tensorflow_stub\\dtypes.py:543: FutureWarning: Passing (type, 1) or '1type' as a synonym of type is deprecated; in a future version of numpy, it will be understood as (type, (1,)) / '(1,)type'.\n",
      "  _np_qint16 = np.dtype([(\"qint16\", np.int16, 1)])\n",
      "C:\\Users\\xris1\\anaconda3\\lib\\site-packages\\tensorboard\\compat\\tensorflow_stub\\dtypes.py:544: FutureWarning: Passing (type, 1) or '1type' as a synonym of type is deprecated; in a future version of numpy, it will be understood as (type, (1,)) / '(1,)type'.\n",
      "  _np_quint16 = np.dtype([(\"quint16\", np.uint16, 1)])\n",
      "C:\\Users\\xris1\\anaconda3\\lib\\site-packages\\tensorboard\\compat\\tensorflow_stub\\dtypes.py:545: FutureWarning: Passing (type, 1) or '1type' as a synonym of type is deprecated; in a future version of numpy, it will be understood as (type, (1,)) / '(1,)type'.\n",
      "  _np_qint32 = np.dtype([(\"qint32\", np.int32, 1)])\n",
      "C:\\Users\\xris1\\anaconda3\\lib\\site-packages\\tensorboard\\compat\\tensorflow_stub\\dtypes.py:550: FutureWarning: Passing (type, 1) or '1type' as a synonym of type is deprecated; in a future version of numpy, it will be understood as (type, (1,)) / '(1,)type'.\n",
      "  np_resource = np.dtype([(\"resource\", np.ubyte, 1)])\n"
     ]
    }
   ],
   "source": [
    "from keras.applications.vgg16 import VGG16 # load VGG16 model from keras\n",
    "from keras.preprocessing.image import load_img # Using images library\n",
    "from keras.preprocessing.image import img_to_array # # convert image pixels to numpy for specific manipulations\n",
    "from keras.applications.vgg16 import preprocess_input # to prepare for new input\n",
    "from keras.applications.vgg16 import decode_predictions # for reporting probabilities"
   ]
  },
  {
   "cell_type": "markdown",
   "metadata": {},
   "source": [
    "## Fine Tuning"
   ]
  },
  {
   "cell_type": "code",
   "execution_count": null,
   "metadata": {},
   "outputs": [],
   "source": [
    "# classifying only weapons \n",
    "vgg16_model = VGG16(weights=\"imagenet\")"
   ]
  },
  {
   "cell_type": "code",
   "execution_count": null,
   "metadata": {},
   "outputs": [],
   "source": [
    "from keras.models import Sequential\n",
    "from keras.layers import Dense, Activation\n",
    "\n",
    "seq_model = Sequential()\n",
    "\n",
    "# iterate all layers in vgg16 to sequential for custom modification\n",
    "for layer in vgg16_model.layers:\n",
    "    seq_model.add(layer)\n",
    "    \n",
    "seq_model.summary()"
   ]
  },
  {
   "cell_type": "code",
   "execution_count": null,
   "metadata": {},
   "outputs": [],
   "source": [
    "# 1000 categories, pop off output layer to work only specific categories\n",
    "seq_model._layers.pop()\n",
    "\n",
    "seq_model.summary()"
   ]
  },
  {
   "cell_type": "code",
   "execution_count": null,
   "metadata": {},
   "outputs": [],
   "source": [
    "# freeze weights to prevent constantly updating weights\n",
    "for layer in seq_model._layers:\n",
    "    layer.trainable = False\n"
   ]
  },
  {
   "cell_type": "code",
   "execution_count": null,
   "metadata": {},
   "outputs": [],
   "source": [
    "seq_model.add(Dense(5, activation='softmax')) # 5 categories"
   ]
  },
  {
   "cell_type": "code",
   "execution_count": 1,
   "metadata": {},
   "outputs": [],
   "source": [
    "class VGG16:\n",
    "    \n",
    "    def __init__(self):\n",
    "#         self.load_libraries\n",
    "        self.load_model        \n",
    "    \n",
    "#     def load_libraries():\n",
    "#         from keras.applications.vgg16 import VGG16 # load VGG16 model from keras\n",
    "#         from keras.preprocessing.image import load_img # Using images library\n",
    "#         from keras.preprocessing.image import img_to_array # # convert image pixels to numpy for specific manipulations\n",
    "#         from keras.applications.vgg16 import preprocess_input # to prepare for new input\n",
    "#         from keras.applications.vgg16 import decode_predictions # for reporting probabilities\n",
    "    \n",
    "    def load_model(file):   \n",
    "        \n",
    "        from keras.applications.vgg16 import VGG16 # load VGG16 model from keras\n",
    "        from keras.preprocessing.image import load_img # Using images library\n",
    "        from keras.preprocessing.image import img_to_array # # convert image pixels to numpy for specific manipulations\n",
    "        from keras.applications.vgg16 import preprocess_input # to prepare for new input\n",
    "        from keras.applications.vgg16 import decode_predictions # for reporting probabilities\n",
    "    \n",
    "        \n",
    "        model = VGG16()\n",
    "        model.summary()\n",
    "        \n",
    "        # resize to 244x244\n",
    "        # image = load_img('weapon-test.jpg', target_size=(224,224))\n",
    "        image = load_img(file, target_size=(224,224))\n",
    "        image = img_to_array(image)\n",
    "        \n",
    "        # needs to be reshaped for all images\n",
    "        image = image.reshape((1, image.shape[0], image.shape[1], image.shape[2]))\n",
    "        \n",
    "        # prepare new input and predict\n",
    "        image = preprocess_input(image)\n",
    "        weap = model.predict(image)\n",
    "        \n",
    "        # convert probabilities to labels\n",
    "        label = decode_predictions(weap)\n",
    "        print('highest probability: ', label[0][0])\n",
    "        label\n",
    "    \n",
    "#     def __new__(self):\n",
    "#         return self\n",
    "        \n"
   ]
  },
  {
   "cell_type": "code",
   "execution_count": 8,
   "metadata": {},
   "outputs": [
    {
     "ename": "TypeError",
     "evalue": "metaclass conflict: the metaclass of a derived class must be a (non-strict) subclass of the metaclasses of all its bases",
     "output_type": "error",
     "traceback": [
      "\u001b[1;31m---------------------------------------------------------------------------\u001b[0m",
      "\u001b[1;31mTypeError\u001b[0m                                 Traceback (most recent call last)",
      "\u001b[1;32m<ipython-input-8-0e14d1838aa6>\u001b[0m in \u001b[0;36m<module>\u001b[1;34m\u001b[0m\n\u001b[0;32m      4\u001b[0m \u001b[1;32mfrom\u001b[0m \u001b[0mPIL\u001b[0m \u001b[1;32mimport\u001b[0m \u001b[0mImage\u001b[0m\u001b[1;33m,\u001b[0m \u001b[0mImageTk\u001b[0m\u001b[1;33m\u001b[0m\u001b[1;33m\u001b[0m\u001b[0m\n\u001b[0;32m      5\u001b[0m \u001b[1;33m\u001b[0m\u001b[0m\n\u001b[1;32m----> 6\u001b[1;33m \u001b[1;32mclass\u001b[0m \u001b[0mRoot\u001b[0m\u001b[1;33m(\u001b[0m\u001b[0mTk\u001b[0m\u001b[1;33m,\u001b[0m \u001b[0mVGG16\u001b[0m\u001b[1;33m)\u001b[0m\u001b[1;33m:\u001b[0m\u001b[1;33m\u001b[0m\u001b[1;33m\u001b[0m\u001b[0m\n\u001b[0m\u001b[0;32m      7\u001b[0m     \u001b[1;32mdef\u001b[0m \u001b[0m__init__\u001b[0m\u001b[1;33m(\u001b[0m\u001b[0mself\u001b[0m\u001b[1;33m)\u001b[0m\u001b[1;33m:\u001b[0m\u001b[1;33m\u001b[0m\u001b[1;33m\u001b[0m\u001b[0m\n\u001b[0;32m      8\u001b[0m         \u001b[0msuper\u001b[0m\u001b[1;33m(\u001b[0m\u001b[0mRoot\u001b[0m\u001b[1;33m,\u001b[0m \u001b[0mself\u001b[0m\u001b[1;33m)\u001b[0m\u001b[1;33m.\u001b[0m\u001b[0m__init__\u001b[0m\u001b[1;33m(\u001b[0m\u001b[1;33m)\u001b[0m\u001b[1;33m\u001b[0m\u001b[1;33m\u001b[0m\u001b[0m\n",
      "\u001b[1;31mTypeError\u001b[0m: metaclass conflict: the metaclass of a derived class must be a (non-strict) subclass of the metaclasses of all its bases"
     ]
    }
   ],
   "source": [
    "from tkinter import *\n",
    "from tkinter import ttk\n",
    "from tkinter import filedialog\n",
    "from PIL import Image, ImageTk\n",
    "        \n",
    "class Root(Tk, VGG16):\n",
    "    def __init__(self):\n",
    "        super(Root, self).__init__()\n",
    "        self.title(\"Weapon Detector\")\n",
    "        self.minsize(640, 400)\n",
    "        self.vgg16 = VGG16\n",
    "\n",
    "#       self.labelFrame = ttk.LabelFrame(self)\n",
    "#       self.labelFrame.grid(column = 0, row = 1, padx = 20, pady = 20)\n",
    "\n",
    "        self.btn_browse()\n",
    "        self.btn_quit()        \n",
    " \n",
    "    def btn_browse(self):\n",
    "        self.browse = ttk.Button(text = \"Browse A File\", command=self.fileDialog)\n",
    "        self.browse.grid(column = 1, row = 1)\n",
    "        \n",
    "    # vgg16 class takes file and starts prediction\n",
    "    def fileDialog(self):\n",
    "        self.filename = filedialog.askopenfilename(initialdir =  \"/\", title = \"Select A File\", filetype =((\"jpeg files\",\"*.jpg\"),(\"png files\",\"*.png*\")))        \n",
    "\n",
    "        self.vgg16.load_model(self.filename)\n",
    "        \n",
    "        self.label = ttk.Label(text = \"\")\n",
    "        self.label.grid(column = 1, row = 5)\n",
    "#       self.label.configure(text = self.filename)\n",
    "\n",
    "        img = Image.open(self.filename)\n",
    "        photo = ImageTk.PhotoImage(img)\n",
    "\n",
    "        self.lbl_img = Label(image=photo)\n",
    "        self.lbl_img.image = photo \n",
    "        self.lbl_img.grid(column=3, row=4)   \n",
    "    \n",
    "    def btn_quit(self):\n",
    "        self.quit = ttk.Button(self, text=\"Quit\", fg=\"red\", command=self.destroy)\n",
    "        self.quit.grid(column = 2, row = 1)\n",
    "\n",
    "model_class = VGG16()\n",
    "print(model_class)\n",
    "\n",
    "root = Root()\n",
    "root.mainloop()"
   ]
  },
  {
   "cell_type": "code",
   "execution_count": null,
   "metadata": {},
   "outputs": [],
   "source": []
  }
 ],
 "metadata": {
  "kernelspec": {
   "display_name": "Python 3",
   "language": "python",
   "name": "python3"
  },
  "language_info": {
   "codemirror_mode": {
    "name": "ipython",
    "version": 3
   },
   "file_extension": ".py",
   "mimetype": "text/x-python",
   "name": "python",
   "nbconvert_exporter": "python",
   "pygments_lexer": "ipython3",
   "version": "3.7.6"
  }
 },
 "nbformat": 4,
 "nbformat_minor": 4
}
