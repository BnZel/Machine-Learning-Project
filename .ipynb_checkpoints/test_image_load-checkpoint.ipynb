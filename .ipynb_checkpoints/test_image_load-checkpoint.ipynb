{
 "cells": [
  {
   "cell_type": "code",
   "execution_count": 1,
   "metadata": {},
   "outputs": [
    {
     "name": "stderr",
     "output_type": "stream",
     "text": [
      "Using TensorFlow backend.\n"
     ]
    }
   ],
   "source": [
    "import pandas as pd\n",
    "import numpy as np\n",
    "import os\n",
    "import keras\n",
    "import matplotlib.pyplot as plt\n",
    "from keras.layers import Dense,GlobalAveragePooling2D\n",
    "from keras.applications import MobileNet\n",
    "from keras.preprocessing import image\n",
    "from keras.applications.mobilenet import preprocess_input\n",
    "from keras.preprocessing.image import ImageDataGenerator\n",
    "from keras.models import Model\n",
    "from keras.optimizers import Adam\n",
    "\n",
    "from keras.applications.vgg16 import VGG16 # load VGG16 model from keras\n",
    "from keras.preprocessing.image import load_img # Using images library\n",
    "from keras.preprocessing.image import img_to_array # # convert image pixels to numpy for specific manipulations\n",
    "from keras.applications.vgg16 import preprocess_input # to prepare for new input\n",
    "from keras.applications.vgg16 import decode_predictions # for reporting probabilities"
   ]
  },
  {
   "cell_type": "code",
   "execution_count": 2,
   "metadata": {},
   "outputs": [
    {
     "name": "stdout",
     "output_type": "stream",
     "text": [
      "Found 225 images belonging to 5 classes.\n",
      "Found 48 images belonging to 5 classes.\n",
      "Batch shape=(32, 224, 224, 3), min=-123.680, max=151.061\n",
      "Batch shape=(32, 224, 224, 3), min=-123.680, max=151.061\n"
     ]
    }
   ],
   "source": [
    "train_datagen = ImageDataGenerator(preprocessing_function=preprocess_input)\n",
    "# prepare an iterators for each dataset\n",
    "train_it = train_datagen.flow_from_directory('data/images/train',\n",
    "                                     target_size=(224,224),\n",
    "                                     color_mode='rgb',\n",
    "                                     batch_size=32,\n",
    "                                     class_mode='categorical',\n",
    "                                     shuffle=True)\n",
    "\n",
    "validate_it = train_datagen.flow_from_directory('data/images/validate',\n",
    "                                     target_size=(224,224),\n",
    "                                     color_mode='rgb',\n",
    "                                     batch_size=32,\n",
    "                                     class_mode='categorical',\n",
    "                                     shuffle=True)\n",
    "\n",
    "train_batchX, train_batchy = train_it.next()\n",
    "print('Batch shape=%s, min=%.3f, max=%.3f' % (train_batchX.shape, train_batchX.min(), train_batchX.max()))\n",
    "validate_batchX, validate_batchy = validate_it.next()\n",
    "print('Batch shape=%s, min=%.3f, max=%.3f' % (validate_batchX.shape, validate_batchX.min(), validate_batchX.max()))"
   ]
  },
  {
   "cell_type": "code",
   "execution_count": 3,
   "metadata": {},
   "outputs": [],
   "source": [
    "# classifying only weapons \n",
    "vgg16_model = VGG16(weights=\"imagenet\")"
   ]
  },
  {
   "cell_type": "code",
   "execution_count": 4,
   "metadata": {},
   "outputs": [
    {
     "name": "stdout",
     "output_type": "stream",
     "text": [
      "Model: \"sequential_1\"\n",
      "_________________________________________________________________\n",
      "Layer (type)                 Output Shape              Param #   \n",
      "=================================================================\n",
      "block1_conv1 (Conv2D)        (None, 224, 224, 64)      1792      \n",
      "_________________________________________________________________\n",
      "block1_conv2 (Conv2D)        (None, 224, 224, 64)      36928     \n",
      "_________________________________________________________________\n",
      "block1_pool (MaxPooling2D)   (None, 112, 112, 64)      0         \n",
      "_________________________________________________________________\n",
      "block2_conv1 (Conv2D)        (None, 112, 112, 128)     73856     \n",
      "_________________________________________________________________\n",
      "block2_conv2 (Conv2D)        (None, 112, 112, 128)     147584    \n",
      "_________________________________________________________________\n",
      "block2_pool (MaxPooling2D)   (None, 56, 56, 128)       0         \n",
      "_________________________________________________________________\n",
      "block3_conv1 (Conv2D)        (None, 56, 56, 256)       295168    \n",
      "_________________________________________________________________\n",
      "block3_conv2 (Conv2D)        (None, 56, 56, 256)       590080    \n",
      "_________________________________________________________________\n",
      "block3_conv3 (Conv2D)        (None, 56, 56, 256)       590080    \n",
      "_________________________________________________________________\n",
      "block3_pool (MaxPooling2D)   (None, 28, 28, 256)       0         \n",
      "_________________________________________________________________\n",
      "block4_conv1 (Conv2D)        (None, 28, 28, 512)       1180160   \n",
      "_________________________________________________________________\n",
      "block4_conv2 (Conv2D)        (None, 28, 28, 512)       2359808   \n",
      "_________________________________________________________________\n",
      "block4_conv3 (Conv2D)        (None, 28, 28, 512)       2359808   \n",
      "_________________________________________________________________\n",
      "block4_pool (MaxPooling2D)   (None, 14, 14, 512)       0         \n",
      "_________________________________________________________________\n",
      "block5_conv1 (Conv2D)        (None, 14, 14, 512)       2359808   \n",
      "_________________________________________________________________\n",
      "block5_conv2 (Conv2D)        (None, 14, 14, 512)       2359808   \n",
      "_________________________________________________________________\n",
      "block5_conv3 (Conv2D)        (None, 14, 14, 512)       2359808   \n",
      "_________________________________________________________________\n",
      "block5_pool (MaxPooling2D)   (None, 7, 7, 512)         0         \n",
      "_________________________________________________________________\n",
      "flatten (Flatten)            (None, 25088)             0         \n",
      "_________________________________________________________________\n",
      "fc1 (Dense)                  (None, 4096)              102764544 \n",
      "_________________________________________________________________\n",
      "fc2 (Dense)                  (None, 4096)              16781312  \n",
      "_________________________________________________________________\n",
      "predictions (Dense)          (None, 1000)              4097000   \n",
      "=================================================================\n",
      "Total params: 138,357,544\n",
      "Trainable params: 138,357,544\n",
      "Non-trainable params: 0\n",
      "_________________________________________________________________\n"
     ]
    }
   ],
   "source": [
    "from keras.models import Sequential\n",
    "from keras.layers import Dense, Activation\n",
    "\n",
    "seq_model = Sequential()\n",
    "\n",
    "# iterate all layers in vgg16 to sequential for custom modification\n",
    "for layer in vgg16_model.layers:\n",
    "    seq_model.add(layer)\n",
    "    \n",
    "seq_model.summary()"
   ]
  },
  {
   "cell_type": "code",
   "execution_count": 5,
   "metadata": {},
   "outputs": [
    {
     "data": {
      "text/plain": [
       "<keras.layers.core.Dense at 0x184afdafd48>"
      ]
     },
     "execution_count": 5,
     "metadata": {},
     "output_type": "execute_result"
    }
   ],
   "source": [
    "# 1000 categories, pop off output layer to work only specific categories\n",
    "seq_model._layers.pop()"
   ]
  },
  {
   "cell_type": "code",
   "execution_count": 6,
   "metadata": {},
   "outputs": [],
   "source": [
    "# freeze weights to prevent constantly updating weights\n",
    "for layer in seq_model._layers:\n",
    "    layer.trainable = False"
   ]
  },
  {
   "cell_type": "code",
   "execution_count": 7,
   "metadata": {},
   "outputs": [],
   "source": [
    "seq_model.add(Dense(5, activation='softmax')) # 5 categories \n",
    "\n",
    "# seq_model.summary()"
   ]
  },
  {
   "cell_type": "code",
   "execution_count": 8,
   "metadata": {
    "scrolled": false
   },
   "outputs": [
    {
     "name": "stdout",
     "output_type": "stream",
     "text": [
      "Epoch 1/50\n",
      "7/7 [==============================] - 6s 889ms/step - loss: 1.5913 - accuracy: 0.3472 - val_loss: 1.6040 - val_accuracy: 0.3333\n",
      "Epoch 2/50\n",
      "7/7 [==============================] - 2s 232ms/step - loss: 1.5413 - accuracy: 0.7047 - val_loss: 1.6045 - val_accuracy: 0.2917\n",
      "Epoch 3/50\n",
      "7/7 [==============================] - 2s 219ms/step - loss: 1.5327 - accuracy: 0.8187 - val_loss: 1.6213 - val_accuracy: 0.2708\n",
      "Epoch 4/50\n",
      "7/7 [==============================] - 2s 257ms/step - loss: 1.5076 - accuracy: 0.9107 - val_loss: 1.6090 - val_accuracy: 0.2292\n",
      "Epoch 5/50\n",
      "7/7 [==============================] - 2s 224ms/step - loss: 1.4854 - accuracy: 0.9074 - val_loss: 1.6038 - val_accuracy: 0.2917\n",
      "Epoch 6/50\n",
      "7/7 [==============================] - 2s 255ms/step - loss: 1.4837 - accuracy: 0.8795 - val_loss: 1.6000 - val_accuracy: 0.1667\n",
      "Epoch 7/50\n",
      "7/7 [==============================] - 2s 256ms/step - loss: 1.4641 - accuracy: 0.9171 - val_loss: 1.6019 - val_accuracy: 0.2708\n",
      "Epoch 8/50\n",
      "7/7 [==============================] - 2s 228ms/step - loss: 1.4468 - accuracy: 0.9016 - val_loss: 1.6031 - val_accuracy: 0.3542\n",
      "Epoch 9/50\n",
      "7/7 [==============================] - 2s 227ms/step - loss: 1.4421 - accuracy: 0.9223 - val_loss: 1.5899 - val_accuracy: 0.3125\n",
      "Epoch 10/50\n",
      "7/7 [==============================] - 2s 240ms/step - loss: 1.4298 - accuracy: 0.9378 - val_loss: 1.6211 - val_accuracy: 0.3333\n",
      "Epoch 11/50\n",
      "7/7 [==============================] - 2s 252ms/step - loss: 1.4023 - accuracy: 0.9430 - val_loss: 1.5899 - val_accuracy: 0.3542\n",
      "Epoch 12/50\n",
      "7/7 [==============================] - 2s 262ms/step - loss: 1.4065 - accuracy: 0.9286 - val_loss: 1.6073 - val_accuracy: 0.3750\n",
      "Epoch 13/50\n",
      "7/7 [==============================] - 2s 226ms/step - loss: 1.3718 - accuracy: 0.9444 - val_loss: 1.5899 - val_accuracy: 0.3333\n",
      "Epoch 14/50\n",
      "7/7 [==============================] - 2s 266ms/step - loss: 1.3747 - accuracy: 0.9643 - val_loss: 1.5474 - val_accuracy: 0.3750\n",
      "Epoch 15/50\n",
      "7/7 [==============================] - 2s 230ms/step - loss: 1.3654 - accuracy: 0.9793 - val_loss: 1.5251 - val_accuracy: 0.3750\n",
      "Epoch 16/50\n",
      "7/7 [==============================] - 2s 220ms/step - loss: 1.3438 - accuracy: 0.9793 - val_loss: 1.5439 - val_accuracy: 0.3958\n",
      "Epoch 17/50\n",
      "7/7 [==============================] - 2s 219ms/step - loss: 1.3483 - accuracy: 0.9741 - val_loss: 1.5389 - val_accuracy: 0.3958\n",
      "Epoch 18/50\n",
      "7/7 [==============================] - 2s 243ms/step - loss: 1.3165 - accuracy: 0.9896 - val_loss: 1.5365 - val_accuracy: 0.3958\n",
      "Epoch 19/50\n",
      "7/7 [==============================] - 2s 239ms/step - loss: 1.3258 - accuracy: 0.9689 - val_loss: 1.5729 - val_accuracy: 0.3750\n",
      "Epoch 20/50\n",
      "7/7 [==============================] - 2s 224ms/step - loss: 1.3072 - accuracy: 0.9845 - val_loss: 1.5804 - val_accuracy: 0.3542\n",
      "Epoch 21/50\n",
      "7/7 [==============================] - 2s 264ms/step - loss: 1.3090 - accuracy: 0.9821 - val_loss: 1.5887 - val_accuracy: 0.2917\n",
      "Epoch 22/50\n",
      "7/7 [==============================] - 2s 220ms/step - loss: 1.2699 - accuracy: 0.9845 - val_loss: 1.6003 - val_accuracy: 0.2917\n",
      "Epoch 23/50\n",
      "7/7 [==============================] - 2s 226ms/step - loss: 1.2971 - accuracy: 0.9793 - val_loss: 1.6233 - val_accuracy: 0.3125\n",
      "Epoch 24/50\n",
      "7/7 [==============================] - 2s 220ms/step - loss: 1.2818 - accuracy: 0.9845 - val_loss: 1.5208 - val_accuracy: 0.3333\n",
      "Epoch 25/50\n",
      "7/7 [==============================] - 2s 219ms/step - loss: 1.2731 - accuracy: 0.9793 - val_loss: 1.5027 - val_accuracy: 0.3333\n",
      "Epoch 26/50\n",
      "7/7 [==============================] - 2s 241ms/step - loss: 1.2572 - accuracy: 0.9845 - val_loss: 1.5450 - val_accuracy: 0.3333\n",
      "Epoch 27/50\n",
      "7/7 [==============================] - 2s 261ms/step - loss: 1.2465 - accuracy: 0.9777 - val_loss: 1.5602 - val_accuracy: 0.3333\n",
      "Epoch 28/50\n",
      "7/7 [==============================] - 1s 208ms/step - loss: 1.2190 - accuracy: 0.9877 - val_loss: 1.6139 - val_accuracy: 0.3750\n",
      "Epoch 29/50\n",
      "7/7 [==============================] - 2s 256ms/step - loss: 1.2195 - accuracy: 0.9821 - val_loss: 1.5837 - val_accuracy: 0.3542\n",
      "Epoch 30/50\n",
      "7/7 [==============================] - 1s 197ms/step - loss: 1.1985 - accuracy: 0.9877 - val_loss: 1.6154 - val_accuracy: 0.3333\n",
      "Epoch 31/50\n",
      "7/7 [==============================] - 2s 246ms/step - loss: 1.1957 - accuracy: 0.9821 - val_loss: 1.5136 - val_accuracy: 0.3333\n",
      "Epoch 32/50\n",
      "7/7 [==============================] - 2s 221ms/step - loss: 1.1834 - accuracy: 0.9793 - val_loss: 1.5519 - val_accuracy: 0.3333\n",
      "Epoch 33/50\n",
      "7/7 [==============================] - 2s 219ms/step - loss: 1.1733 - accuracy: 0.9793 - val_loss: 1.6338 - val_accuracy: 0.3750\n",
      "Epoch 34/50\n",
      "7/7 [==============================] - 2s 230ms/step - loss: 1.1926 - accuracy: 0.9793 - val_loss: 1.6580 - val_accuracy: 0.3542\n",
      "Epoch 35/50\n",
      "7/7 [==============================] - 2s 268ms/step - loss: 1.1609 - accuracy: 0.9866 - val_loss: 1.5593 - val_accuracy: 0.3542\n",
      "Epoch 36/50\n",
      "7/7 [==============================] - 2s 227ms/step - loss: 1.1207 - accuracy: 0.9815 - val_loss: 1.5148 - val_accuracy: 0.3542\n",
      "Epoch 37/50\n",
      "7/7 [==============================] - 2s 224ms/step - loss: 1.1363 - accuracy: 0.9845 - val_loss: 1.5111 - val_accuracy: 0.3542\n",
      "Epoch 38/50\n",
      "7/7 [==============================] - 2s 278ms/step - loss: 1.1348 - accuracy: 0.9911 - val_loss: 1.6144 - val_accuracy: 0.3333\n",
      "Epoch 39/50\n",
      "7/7 [==============================] - 2s 239ms/step - loss: 1.1115 - accuracy: 0.9845 - val_loss: 1.5677 - val_accuracy: 0.3125\n",
      "Epoch 40/50\n",
      "7/7 [==============================] - 2s 220ms/step - loss: 1.1061 - accuracy: 0.9845 - val_loss: 1.5856 - val_accuracy: 0.3125\n",
      "Epoch 41/50\n",
      "7/7 [==============================] - 2s 220ms/step - loss: 1.1178 - accuracy: 0.9948 - val_loss: 1.4694 - val_accuracy: 0.3333\n",
      "Epoch 42/50\n",
      "7/7 [==============================] - 2s 233ms/step - loss: 1.1179 - accuracy: 0.9741 - val_loss: 1.6170 - val_accuracy: 0.3333\n",
      "Epoch 43/50\n",
      "7/7 [==============================] - 2s 252ms/step - loss: 1.1034 - accuracy: 0.9866 - val_loss: 1.6264 - val_accuracy: 0.2708\n",
      "Epoch 44/50\n",
      "7/7 [==============================] - 1s 206ms/step - loss: 1.0415 - accuracy: 0.9938 - val_loss: 1.5808 - val_accuracy: 0.3125\n",
      "Epoch 45/50\n",
      "7/7 [==============================] - 2s 221ms/step - loss: 1.0657 - accuracy: 0.9845 - val_loss: 1.5278 - val_accuracy: 0.3333\n",
      "Epoch 46/50\n",
      "7/7 [==============================] - 2s 268ms/step - loss: 1.0684 - accuracy: 0.9911 - val_loss: 1.6319 - val_accuracy: 0.3542\n",
      "Epoch 47/50\n",
      "7/7 [==============================] - 2s 222ms/step - loss: 1.0708 - accuracy: 0.9845 - val_loss: 1.6645 - val_accuracy: 0.3542\n",
      "Epoch 48/50\n",
      "7/7 [==============================] - 2s 221ms/step - loss: 1.0312 - accuracy: 0.9845 - val_loss: 1.5006 - val_accuracy: 0.3542\n",
      "Epoch 49/50\n",
      "7/7 [==============================] - 2s 246ms/step - loss: 1.0490 - accuracy: 0.9866 - val_loss: 1.5070 - val_accuracy: 0.3542\n",
      "Epoch 50/50\n",
      "7/7 [==============================] - 2s 234ms/step - loss: 1.0010 - accuracy: 0.9815 - val_loss: 1.4665 - val_accuracy: 0.3542\n"
     ]
    }
   ],
   "source": [
    "seq_model.compile(optimizer='Adam',loss='categorical_crossentropy',metrics=['accuracy'])\n",
    "# Adam optimizer\n",
    "# loss function will be categorical cross entropy\n",
    "# evaluation metric will be accuracy\n",
    "\n",
    "step_size_train = train_it.n//train_it.batch_size\n",
    "history = seq_model.fit_generator(generator=train_it,\n",
    "                                  validation_data=validate_it,\n",
    "                                  validation_freq=1,\n",
    "                                  steps_per_epoch=step_size_train,\n",
    "                                  shuffle=True,\n",
    "                                  epochs=50)"
   ]
  },
  {
   "cell_type": "code",
   "execution_count": 9,
   "metadata": {},
   "outputs": [
    {
     "data": {
      "image/png": "[encoded data removed]",
      "text/plain": [
       "<Figure size 432x288 with 1 Axes>"
      ]
     },
     "metadata": {
      "needs_background": "light"
     },
     "output_type": "display_data"
    },
    {
     "data": {
      "image/png": "[encoded data removed]",
      "text/plain": [
       "<Figure size 432x288 with 1 Axes>"
      ]
     },
     "metadata": {
      "needs_background": "light"
     },
     "output_type": "display_data"
    }
   ],
   "source": [
    "# Plot training & validation accuracy values\n",
    "plt.plot(history.history['accuracy'])\n",
    "plt.plot(history.history['val_accuracy'])\n",
    "plt.title('Model accuracy')\n",
    "plt.ylabel('Accuracy')\n",
    "plt.xlabel('Epoch')\n",
    "plt.legend(['Train', 'Test'], loc='upper left')\n",
    "plt.show()\n",
    "\n",
    "# Plot training & validation loss values\n",
    "plt.plot(history.history['loss'])\n",
    "plt.plot(history.history['val_loss'])\n",
    "plt.title('Model loss')\n",
    "plt.ylabel('Loss')\n",
    "plt.xlabel('Epoch')\n",
    "plt.legend(['Train', 'Test'], loc='upper left')\n",
    "plt.show()"
   ]
  },
  {
   "cell_type": "code",
   "execution_count": 11,
   "metadata": {},
   "outputs": [],
   "source": [
    "# TO PREDICT PROPERLY YOU NEED TO FEED IT AN IMAGE THAT IS NOT IN THE VALIDATION OR TEST!\n",
    "prediction = seq_model.predict(validate_batchX)\n",
    "\n",
    "# convert the probabilities to class labels\n",
    "#label = decode_predictions(pred)\n",
    "\n",
    "for row in range(len(prediction)):\n",
    "    biggest = np.argmax(prediction[row])\n",
    "    for val in range(len(prediction[row])):\n",
    "        if(val == biggest):\n",
    "            prediction[row][val] = 1.\n",
    "        else:\n",
    "            prediction[row][val] = 0.\n",
    "\n",
    "# retrieve the most likely result, e.g. highest probability\n",
    "test_prediction = prediction == validate_batchy"
   ]
  },
  {
   "cell_type": "code",
   "execution_count": 26,
   "metadata": {},
   "outputs": [
    {
     "name": "stdout",
     "output_type": "stream",
     "text": [
      "20.0\n"
     ]
    }
   ],
   "source": [
    "# HOW MANY OF THE TESTS WERE WRONG\n",
    "print((np.sum(test_prediction % 2 == 0))/2)"
   ]
  },
  {
   "cell_type": "code",
   "execution_count": null,
   "metadata": {},
   "outputs": [],
   "source": []
  }
 ],
 "metadata": {
  "kernelspec": {
   "display_name": "Python 3",
   "language": "python",
   "name": "python3"
  },
  "language_info": {
   "codemirror_mode": {
    "name": "ipython",
    "version": 3
   },
   "file_extension": ".py",
   "mimetype": "text/x-python",
   "name": "python",
   "nbconvert_exporter": "python",
   "pygments_lexer": "ipython3",
   "version": "3.7.7"
  }
 },
 "nbformat": 4,
 "nbformat_minor": 4
}
